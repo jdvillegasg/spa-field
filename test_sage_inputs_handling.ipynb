{
 "cells": [
  {
   "cell_type": "code",
   "execution_count": 1,
   "metadata": {},
   "outputs": [],
   "source": [
    "from SAGE_input_handler import SAGE_input_handler\n",
    "import numpy as np\n",
    "import matplotlib.pyplot as plt"
   ]
  },
  {
   "cell_type": "markdown",
   "metadata": {},
   "source": [
    "# Create an instance of the handler"
   ]
  },
  {
   "cell_type": "code",
   "execution_count": 2,
   "metadata": {},
   "outputs": [],
   "source": [
    "mpc_powers_path = r'C:\\Users\\julia\\OneDrive - UCL\\Pièces jointes\\MATLAB\\ISIS RESULTS\\ISIS_MKT_ALL_FILE_27_WAVES_27_ALPHA.txt'\n",
    "mpc_params_path = r'C:\\Users\\julia\\OneDrive - UCL\\Pièces jointes\\MATLAB\\ISIS RESULTS\\ISIS_MKT_ALL_FILE_27_WAVES_27_PARAM.txt'\n",
    "\n",
    "max_num_paths = 27\n",
    "\n",
    "sage_handler = SAGE_input_handler(mpc_params_path, mpc_powers_path, max_num_paths)"
   ]
  },
  {
   "cell_type": "markdown",
   "metadata": {},
   "source": [
    "# Compute power gains"
   ]
  },
  {
   "cell_type": "code",
   "execution_count": 3,
   "metadata": {},
   "outputs": [],
   "source": [
    "pg = sage_handler.power_definition(power_combination='2-pol-comp')"
   ]
  },
  {
   "cell_type": "markdown",
   "metadata": {},
   "source": [
    "# Make angular correction"
   ]
  },
  {
   "cell_type": "code",
   "execution_count": 4,
   "metadata": {},
   "outputs": [],
   "source": [
    "ang_LoS = np.random.uniform(low=-np.pi, high=np.pi, size=(len(pg),))\n",
    "aoa_corr = np.random.uniform(low=-np.pi, high=np.pi, size=(len(pg),))\n",
    "\n",
    "sage_handler.angular_correction_UCA(pg, ang_LoS, aoa_corr)"
   ]
  },
  {
   "cell_type": "code",
   "execution_count": 5,
   "metadata": {},
   "outputs": [
    {
     "data": {
      "text/plain": [
       "array([[ 0.66820132, -0.46141664],\n",
       "       [ 0.66501169, -0.46283472],\n",
       "       [-0.27943686,  1.29343226],\n",
       "       [ 0.10789556,  1.439944  ],\n",
       "       [-0.27207032,  1.29811073],\n",
       "       [-0.64395346,  0.02475718],\n",
       "       [-0.48314427, -0.21710107],\n",
       "       [-0.35434842, -0.33712302],\n",
       "       [-0.64837405,  0.03425032],\n",
       "       [-0.54173707, -0.14556445]])"
      ]
     },
     "execution_count": 5,
     "metadata": {},
     "output_type": "execute_result"
    }
   ],
   "source": [
    "np.random.rand(1,2) +np.column_stack((np.cos(sage_handler.aod[0]), np.sin(sage_handler.aod[0])))"
   ]
  }
 ],
 "metadata": {
  "interpreter": {
   "hash": "322444aef7252a1a83be35543b894fea41e938fdef7e078f6c90e500eae9df63"
  },
  "kernelspec": {
   "display_name": "Python 3.8.11 64-bit ('UnderlyingSpatialLossField': conda)",
   "language": "python",
   "name": "python3"
  },
  "language_info": {
   "codemirror_mode": {
    "name": "ipython",
    "version": 3
   },
   "file_extension": ".py",
   "mimetype": "text/x-python",
   "name": "python",
   "nbconvert_exporter": "python",
   "pygments_lexer": "ipython3",
   "version": "3.8.11"
  },
  "orig_nbformat": 4
 },
 "nbformat": 4,
 "nbformat_minor": 2
}
